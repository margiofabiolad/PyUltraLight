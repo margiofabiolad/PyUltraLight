{
 "cells": [
  {
   "cell_type": "code",
   "execution_count": 39,
   "id": "7701a029-74f8-4256-8e3f-0184366d2136",
   "metadata": {},
   "outputs": [],
   "source": [
    "#libraries needed\n",
    "\n",
    "import numpy as np\n",
    "import matplotlib.pyplot as plt\n",
    "import matplotlib.animation\n",
    "import math\n",
    "import PyUltraLight\n",
    "import pyfftw\n",
    "import os\n",
    "import sys\n",
    "import multiprocessing\n",
    "import numpy\n",
    "import numba\n",
    "import h5py\n",
    "#from IPython.core.display import clear_output, display\n",
    "%matplotlib inline"
   ]
  },
  {
   "cell_type": "markdown",
   "id": "aa240158-e7c6-4381-8edf-e0c1b658e08b",
   "metadata": {},
   "source": [
    "## Axion Mass"
   ]
  },
  {
   "cell_type": "code",
   "execution_count": 3,
   "id": "abd28e07-122c-4e04-be04-2928a35e6a79",
   "metadata": {},
   "outputs": [],
   "source": [
    "axion_mass = 1e-22*1.783e-36    #kg"
   ]
  },
  {
   "cell_type": "markdown",
   "id": "5dfb5d3a-6f66-494a-97d1-b2188b4b1b67",
   "metadata": {},
   "source": [
    "## Simulation Parameters "
   ]
  },
  {
   "cell_type": "code",
   "execution_count": 9,
   "id": "d5fae80d-7dfe-42ff-85ae-13acb1fbad8c",
   "metadata": {},
   "outputs": [],
   "source": [
    "# Set number of threads to target\n",
    "num_threads = multiprocessing.cpu_count()\n",
    "\n",
    "# Set units for soliton parameters\n",
    "s_mass_unit = ''     #Accepted units: 'kg', 'solar_masses', 'M_solar_masses', and '' for dimensionless units\n",
    "s_position_unit = '' #Accepted units: 'm', 'km', 'pc', 'kpc', 'Mpc', 'ly', and '' for dimensionless units\n",
    "s_velocity_unit = '' #Accepted units: 'm/s', 'km/s', 'km/h', and '' for dimensionless units\n",
    "\n",
    "# Set box size and resolution\n",
    "length = 10 # 1 code unit is ~38 kpc x (1e-22/m_a)^0.5\n",
    "length_units = ''  # Accepted units: 'm', 'km', 'pc', 'kpc', 'Mpc', 'ly', and '' for dimensionless units.\n",
    "resol= 128 # It is recommended to check the upper bound on soliton mass for a given box size and resolution\n",
    "duration = 0.1 # 1 code unit is ~70 Gyr (independent of axion mass assumption)\n",
    "duration_units = ''  # Accepted units: 's', 'yr', 'kyr', 'Myr', and '' for dimensionless units\n",
    "start_time = 0.0 # Should be given in the same units as duration. \n",
    "central_mass = 0. # Give this parameter in the same units as the soliton mass unit. i.e. units must match with s_mass_unit\n",
    "\n",
    "#Data to save\n",
    "save_rho = False # Saves density data for entire 3D simulation grid\n",
    "save_psi = False # Saves full complex field data for entire 3D simulation grid\n",
    "save_plane = True # Saves density data for plane z = 0\n",
    "save_energies = True # Saves integrated gravitational, kinetic and total energies as lists\n",
    "save_line = True # Saves density data for line y = 0, z = 0. Useful for examining intereference patterns. \n",
    "\n",
    "#Formats to save\n",
    "hdf5 = False\n",
    "npz = False\n",
    "npy = True\n",
    "\n",
    "step_factor = 1. # Change this to a larger number if velocities are sufficiently low that constraint on timestep can be relaxed. \n",
    "save_number = 10    # Choose number of 'frames' to save. Note that, depending on resolution, this could require significant disk space.\n",
    "save_path = 'TestOutput'  # Set output directory\n",
    "\n",
    "save_options = [save_rho,save_psi,save_plane,save_energies,save_line]"
   ]
  },
  {
   "cell_type": "markdown",
   "id": "c40f8ecb-847b-44de-99f8-cef26a08b13c",
   "metadata": {},
   "source": [
    "## Initial Conditions "
   ]
  },
  {
   "cell_type": "code",
   "execution_count": 11,
   "id": "14766764-9359-4c84-8fba-f615941baa8d",
   "metadata": {},
   "outputs": [],
   "source": [
    "m = 8 #1 code unit is ~2.3e6 M_sol (1e-22/m_a)^1.5\n",
    "r = 2 #1 code unit is ~38 kpc x (1e-22/m_a)^0.5\n",
    "#v = np.sqrt(central_mass/r)\n",
    "\n",
    "#Soliton parameters are mass, position, velocity and phase (radians)\n",
    "soliton1 = [m, [r,0,0], [-20,0,0], 0]\n",
    "soliton2 = [9, [-r,0,0], [20,0,0], 0]\n",
    "\n",
    "solitons = [soliton1,soliton2] "
   ]
  },
  {
   "cell_type": "markdown",
   "id": "c7568284-b0d1-43da-8aff-cfb5cb9c29f4",
   "metadata": {},
   "source": [
    "# Run "
   ]
  },
  {
   "cell_type": "code",
   "execution_count": 44,
   "id": "666fc7af-cf88-425d-9e8f-4228e4c64a48",
   "metadata": {},
   "outputs": [
    {
     "ename": "AttributeError",
     "evalue": "module 'PyUltraLight' has no attribute 'evolve'",
     "output_type": "error",
     "traceback": [
      "\u001b[0;31m---------------------------------------------------------------------------\u001b[0m",
      "\u001b[0;31mAttributeError\u001b[0m                            Traceback (most recent call last)",
      "Input \u001b[0;32mIn [44]\u001b[0m, in \u001b[0;36m<cell line: 1>\u001b[0;34m()\u001b[0m\n\u001b[0;32m----> 1\u001b[0m \u001b[43mPyUltraLight\u001b[49m\u001b[38;5;241;43m.\u001b[39;49m\u001b[43mevolve\u001b[49m(central_mass, num_threads, length, length_units, resol, duration, duration_units, step_factor, save_number, save_options, save_path, npz, npy, hdf5, s_mass_unit, s_position_unit, s_velocity_unit, solitons, start_time)\u001b[38;5;241m.\u001b[39mComplete\n",
      "\u001b[0;31mAttributeError\u001b[0m: module 'PyUltraLight' has no attribute 'evolve'"
     ]
    }
   ],
   "source": [
    "PyUltraLight.evolve(central_mass, num_threads, length, length_units, resol, duration, duration_units, step_factor, save_number, save_options, save_path, npz, npy, hdf5, s_mass_unit, s_position_unit, s_velocity_unit, solitons, start_time).Complete\n"
   ]
  },
  {
   "cell_type": "markdown",
   "id": "8315bf6a-2ff1-4c7c-9275-b40fce58d88d",
   "metadata": {},
   "source": [
    "## Visualisations "
   ]
  },
  {
   "cell_type": "code",
   "execution_count": 46,
   "id": "1d2d5dee-aa0c-48c4-8ca2-6d06c757d853",
   "metadata": {},
   "outputs": [
    {
     "ename": "FileNotFoundError",
     "evalue": "[Errno 2] No such file or directory: 'TestOutput/timestamp.txt'",
     "output_type": "error",
     "traceback": [
      "\u001b[0;31m---------------------------------------------------------------------------\u001b[0m",
      "\u001b[0;31mFileNotFoundError\u001b[0m                         Traceback (most recent call last)",
      "Input \u001b[0;32mIn [46]\u001b[0m, in \u001b[0;36m<cell line: 12>\u001b[0;34m()\u001b[0m\n\u001b[1;32m      6\u001b[0m save_plots \u001b[38;5;241m=\u001b[39m \u001b[38;5;241m0\u001b[39m \n\u001b[1;32m      7\u001b[0m \u001b[38;5;66;03m# 0 to display in this window without saving,\u001b[39;00m\n\u001b[1;32m      8\u001b[0m \u001b[38;5;66;03m# 1 to save as well (will save in 'Visualisations' directory).\u001b[39;00m\n\u001b[1;32m      9\u001b[0m \n\u001b[1;32m     10\u001b[0m \u001b[38;5;66;03m#######################################################################\u001b[39;00m\n\u001b[0;32m---> 12\u001b[0m \u001b[38;5;28;01mwith\u001b[39;00m \u001b[38;5;28;43mopen\u001b[39;49m\u001b[43m(\u001b[49m\u001b[38;5;124;43m'\u001b[39;49m\u001b[38;5;132;43;01m{}\u001b[39;49;00m\u001b[38;5;132;43;01m{}\u001b[39;49;00m\u001b[38;5;124;43m'\u001b[39;49m\u001b[38;5;241;43m.\u001b[39;49m\u001b[43mformat\u001b[49m\u001b[43m(\u001b[49m\u001b[43msave_path\u001b[49m\u001b[43m,\u001b[49m\u001b[43m \u001b[49m\u001b[38;5;124;43m'\u001b[39;49m\u001b[38;5;124;43m/timestamp.txt\u001b[39;49m\u001b[38;5;124;43m'\u001b[39;49m\u001b[43m)\u001b[49m\u001b[43m,\u001b[49m\u001b[43m \u001b[49m\u001b[38;5;124;43m'\u001b[39;49m\u001b[38;5;124;43mr\u001b[39;49m\u001b[38;5;124;43m'\u001b[39;49m\u001b[43m)\u001b[49m \u001b[38;5;28;01mas\u001b[39;00m timestamp:\n\u001b[1;32m     13\u001b[0m   ts \u001b[38;5;241m=\u001b[39m timestamp\u001b[38;5;241m.\u001b[39mread()\n\u001b[1;32m     15\u001b[0m loc \u001b[38;5;241m=\u001b[39m save_path \u001b[38;5;241m+\u001b[39m \u001b[38;5;124m'\u001b[39m\u001b[38;5;124m/\u001b[39m\u001b[38;5;124m'\u001b[39m \u001b[38;5;241m+\u001b[39m ts\n",
      "\u001b[0;31mFileNotFoundError\u001b[0m: [Errno 2] No such file or directory: 'TestOutput/timestamp.txt'"
     ]
    }
   ],
   "source": [
    "output_animated = 0\n",
    "# 0 for all contours plotted on a single graph (useful when total number of saves is <=10), \n",
    "# 1 for an animation of plane of density contours (useful when number of saves is large, may take some time),\n",
    "# 2 for plot of energies over time, \n",
    "# 3 for animation of line along axis of symmetry (useful for studying interference patterns).\n",
    "save_plots = 0 \n",
    "# 0 to display in this window without saving,\n",
    "# 1 to save as well (will save in 'Visualisations' directory).\n",
    "\n",
    "#######################################################################\n",
    "\n",
    "with open('{}{}'.format(save_path, '/timestamp.txt'), 'r') as timestamp:\n",
    "  ts = timestamp.read()\n",
    "\n",
    "loc = save_path + '/' + ts\n"
   ]
  },
  {
   "cell_type": "code",
   "execution_count": null,
   "id": "6a6e1a9f-d272-4f90-a185-a02ee9e3d58b",
   "metadata": {},
   "outputs": [],
   "source": []
  },
  {
   "cell_type": "code",
   "execution_count": null,
   "id": "df1dce8e-348e-430d-bb63-8fe509907475",
   "metadata": {},
   "outputs": [],
   "source": []
  },
  {
   "cell_type": "code",
   "execution_count": null,
   "id": "23214523-b262-437a-8b0d-11fac84ab191",
   "metadata": {},
   "outputs": [],
   "source": []
  }
 ],
 "metadata": {
  "kernelspec": {
   "display_name": "pyUltraLight",
   "language": "python",
   "name": "pyultralight"
  },
  "language_info": {
   "codemirror_mode": {
    "name": "ipython",
    "version": 3
   },
   "file_extension": ".py",
   "mimetype": "text/x-python",
   "name": "python",
   "nbconvert_exporter": "python",
   "pygments_lexer": "ipython3",
   "version": "3.9.7"
  }
 },
 "nbformat": 4,
 "nbformat_minor": 5
}
