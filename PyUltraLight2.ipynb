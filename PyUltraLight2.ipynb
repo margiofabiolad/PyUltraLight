{
 "cells": [
  {
   "cell_type": "code",
   "execution_count": 16,
   "id": "7701a029-74f8-4256-8e3f-0184366d2136",
   "metadata": {},
   "outputs": [],
   "source": [
    "#libraries needed\n",
    "\n",
    "import numpy as np\n",
    "import matplotlib.pyplot as plt\n",
    "import matplotlib.animation\n",
    "import math\n",
    "import PyUltraLight\n",
    "import pyfftw\n",
    "import os\n",
    "import sys\n",
    "import multiprocessing\n",
    "import numpy\n",
    "import numba\n",
    "import h5py\n",
    "from IPython.core.display import clear_output, display\n",
    "%matplotlib inline"
   ]
  },
  {
   "cell_type": "markdown",
   "id": "aa240158-e7c6-4381-8edf-e0c1b658e08b",
   "metadata": {},
   "source": [
    "## Axion Mass"
   ]
  },
  {
   "cell_type": "code",
   "execution_count": 17,
   "id": "abd28e07-122c-4e04-be04-2928a35e6a79",
   "metadata": {},
   "outputs": [],
   "source": [
    "axion_mass = 1e-22*1.783e-36    #kg"
   ]
  },
  {
   "cell_type": "markdown",
   "id": "5dfb5d3a-6f66-494a-97d1-b2188b4b1b67",
   "metadata": {},
   "source": [
    "## Simulation Parameters "
   ]
  },
  {
   "cell_type": "code",
   "execution_count": 33,
   "id": "d5fae80d-7dfe-42ff-85ae-13acb1fbad8c",
   "metadata": {},
   "outputs": [],
   "source": [
    "# Set number of threads to target\n",
    "num_threads = multiprocessing.cpu_count()\n",
    "\n",
    "# Set units for soliton parameters\n",
    "s_mass_unit = ''     #Accepted units: 'kg', 'solar_masses', 'M_solar_masses', and '' for dimensionless units\n",
    "s_position_unit = '' #Accepted units: 'm', 'km', 'pc', 'kpc', 'Mpc', 'ly', and '' for dimensionless units\n",
    "s_velocity_unit = '' #Accepted units: 'm/s', 'km/s', 'km/h', and '' for dimensionless units\n",
    "\n",
    "# Set box size and resolution\n",
    "length = 10 # 1 code unit is ~38 kpc x (1e-22/m_a)^0.5\n",
    "length_units = ''  # Accepted units: 'm', 'km', 'pc', 'kpc', 'Mpc', 'ly', and '' for dimensionless units.\n",
    "resol= 128 # It is recommended to check the upper bound on soliton mass for a given box size and resolution\n",
    "duration = 0.1 # 1 code unit is ~70 Gyr (independent of axion mass assumption)\n",
    "duration_units = ''  # Accepted units: 's', 'yr', 'kyr', 'Myr', and '' for dimensionless units\n",
    "start_time = 0.0 # Should be given in the same units as duration. \n",
    "central_mass = 0. # Give this parameter in the same units as the soliton mass unit. i.e. units must match with s_mass_unit\n",
    "\n",
    "#Data to save\n",
    "save_rho = False # Saves density data for entire 3D simulation grid\n",
    "save_psi = False # Saves full complex field data for entire 3D simulation grid\n",
    "save_plane = True # Saves density data for plane z = 0\n",
    "save_energies = True # Saves integrated gravitational, kinetic and total energies as lists\n",
    "save_line = True # Saves density data for line y = 0, z = 0. Useful for examining intereference patterns. \n",
    "\n",
    "#Formats to save\n",
    "hdf5 = False\n",
    "npz = False\n",
    "npy = True\n",
    "\n",
    "step_factor = 1. # Change this to a larger number if velocities are sufficiently low that constraint on timestep can be relaxed. \n",
    "save_number = 10    # Choose number of 'frames' to save. Note that, depending on resolution, this could require significant disk space.\n",
    "save_path = 'TestOutput'  # Set output directory\n",
    "\n",
    "save_options = [save_rho,save_psi,save_plane,save_energies,save_line]"
   ]
  },
  {
   "cell_type": "markdown",
   "id": "c40f8ecb-847b-44de-99f8-cef26a08b13c",
   "metadata": {},
   "source": [
    "## Initial Conditions "
   ]
  },
  {
   "cell_type": "code",
   "execution_count": 34,
   "id": "14766764-9359-4c84-8fba-f615941baa8d",
   "metadata": {},
   "outputs": [],
   "source": [
    "m = 8 #1 code unit is ~2.3e6 M_sol (1e-22/m_a)^1.5\n",
    "r = 2 #1 code unit is ~38 kpc x (1e-22/m_a)^0.5\n",
    "#v = np.sqrt(central_mass/r)\n",
    "\n",
    "#Soliton parameters are mass, position, velocity and phase (radians)\n",
    "soliton1 = [m, [r,0,0], [-20,0,0], 0]\n",
    "soliton2 = [9, [-r,0,0], [20,0,0], 0]\n",
    "\n",
    "solitons = [soliton1,soliton2] "
   ]
  },
  {
   "cell_type": "markdown",
   "id": "c7568284-b0d1-43da-8aff-cfb5cb9c29f4",
   "metadata": {},
   "source": [
    "# Run "
   ]
  },
  {
   "cell_type": "code",
   "execution_count": 35,
   "id": "666fc7af-cf88-425d-9e8f-4228e4c64a48",
   "metadata": {},
   "outputs": [
    {
     "name": "stdout",
     "output_type": "stream",
     "text": [
      "Initialising...\n"
     ]
    },
    {
     "ename": "AttributeError",
     "evalue": "'VariableNode' object has no attribute 'pi'",
     "output_type": "error",
     "traceback": [
      "\u001b[0;31m---------------------------------------------------------------------------\u001b[0m",
      "\u001b[0;31mAttributeError\u001b[0m                            Traceback (most recent call last)",
      "Input \u001b[0;32mIn [35]\u001b[0m, in \u001b[0;36m<cell line: 1>\u001b[0;34m()\u001b[0m\n\u001b[0;32m----> 1\u001b[0m \u001b[43mPyUltraLight\u001b[49m\u001b[38;5;241;43m.\u001b[39;49m\u001b[43mevolve\u001b[49m\u001b[43m(\u001b[49m\u001b[43mcentral_mass\u001b[49m\u001b[43m,\u001b[49m\u001b[43m \u001b[49m\u001b[43mnum_threads\u001b[49m\u001b[43m,\u001b[49m\u001b[43m \u001b[49m\u001b[43mlength\u001b[49m\u001b[43m,\u001b[49m\u001b[43m \u001b[49m\u001b[43mlength_units\u001b[49m\u001b[43m,\u001b[49m\u001b[43m \u001b[49m\u001b[43mresol\u001b[49m\u001b[43m,\u001b[49m\u001b[43m \u001b[49m\u001b[43mduration\u001b[49m\u001b[43m,\u001b[49m\u001b[43m \u001b[49m\u001b[43mduration_units\u001b[49m\u001b[43m,\u001b[49m\u001b[43m \u001b[49m\u001b[43mstep_factor\u001b[49m\u001b[43m,\u001b[49m\u001b[43m \u001b[49m\u001b[43msave_number\u001b[49m\u001b[43m,\u001b[49m\u001b[43m \u001b[49m\u001b[43msave_options\u001b[49m\u001b[43m,\u001b[49m\u001b[43m \u001b[49m\u001b[43msave_path\u001b[49m\u001b[43m,\u001b[49m\u001b[43m \u001b[49m\u001b[43mnpz\u001b[49m\u001b[43m,\u001b[49m\u001b[43m \u001b[49m\u001b[43mnpy\u001b[49m\u001b[43m,\u001b[49m\u001b[43m \u001b[49m\u001b[43mhdf5\u001b[49m\u001b[43m,\u001b[49m\u001b[43m \u001b[49m\u001b[43ms_mass_unit\u001b[49m\u001b[43m,\u001b[49m\u001b[43m \u001b[49m\u001b[43ms_position_unit\u001b[49m\u001b[43m,\u001b[49m\u001b[43m \u001b[49m\u001b[43ms_velocity_unit\u001b[49m\u001b[43m,\u001b[49m\u001b[43m \u001b[49m\u001b[43msolitons\u001b[49m\u001b[43m,\u001b[49m\u001b[43m \u001b[49m\u001b[43mstart_time\u001b[49m\u001b[43m)\u001b[49m\u001b[38;5;241m.\u001b[39mComplete\n",
      "File \u001b[0;32m~/anaconda3/envs/pyultralight/PyUltraLight/PyUltraLight.py:505\u001b[0m, in \u001b[0;36mevolve\u001b[0;34m(central_mass, num_threads, length, length_units, resol, duration, duration_units, step_factor, save_number, save_options, save_path, npz, npy, hdf5, s_mass_unit, s_position_unit, s_velocity_unit, solitons, start_time)\u001b[0m\n\u001b[1;32m    503\u001b[0m rfft_rho \u001b[38;5;241m=\u001b[39m pyfftw\u001b[38;5;241m.\u001b[39mbuilders\u001b[38;5;241m.\u001b[39mrfftn(rho, axes\u001b[38;5;241m=\u001b[39m(\u001b[38;5;241m0\u001b[39m, \u001b[38;5;241m1\u001b[39m, \u001b[38;5;241m2\u001b[39m), threads\u001b[38;5;241m=\u001b[39mnum_threads)\n\u001b[1;32m    504\u001b[0m phik \u001b[38;5;241m=\u001b[39m rfft_rho(rho)  \u001b[38;5;66;03m# not actually phik but phik is defined in next line\u001b[39;00m\n\u001b[0;32m--> 505\u001b[0m phik \u001b[38;5;241m=\u001b[39m \u001b[43mne\u001b[49m\u001b[38;5;241;43m.\u001b[39;49m\u001b[43mevaluate\u001b[49m\u001b[43m(\u001b[49m\u001b[38;5;124;43m\"\u001b[39;49m\u001b[38;5;124;43m-4*np.pi*phik/rkarray2\u001b[39;49m\u001b[38;5;124;43m\"\u001b[39;49m\u001b[43m)\u001b[49m\n\u001b[1;32m    506\u001b[0m phik[\u001b[38;5;241m0\u001b[39m, \u001b[38;5;241m0\u001b[39m, \u001b[38;5;241m0\u001b[39m] \u001b[38;5;241m=\u001b[39m \u001b[38;5;241m0\u001b[39m\n\u001b[1;32m    507\u001b[0m irfft_phi \u001b[38;5;241m=\u001b[39m pyfftw\u001b[38;5;241m.\u001b[39mbuilders\u001b[38;5;241m.\u001b[39mirfftn(phik, axes\u001b[38;5;241m=\u001b[39m(\u001b[38;5;241m0\u001b[39m, \u001b[38;5;241m1\u001b[39m, \u001b[38;5;241m2\u001b[39m), threads\u001b[38;5;241m=\u001b[39mnum_threads)\n",
      "File \u001b[0;32m~/anaconda3/envs/pyultralight/lib/python3.9/site-packages/numexpr/necompiler.py:809\u001b[0m, in \u001b[0;36mevaluate\u001b[0;34m(ex, local_dict, global_dict, out, order, casting, **kwargs)\u001b[0m\n\u001b[1;32m    807\u001b[0m expr_key \u001b[38;5;241m=\u001b[39m (ex, \u001b[38;5;28mtuple\u001b[39m(\u001b[38;5;28msorted\u001b[39m(context\u001b[38;5;241m.\u001b[39mitems())))\n\u001b[1;32m    808\u001b[0m \u001b[38;5;28;01mif\u001b[39;00m expr_key \u001b[38;5;129;01mnot\u001b[39;00m \u001b[38;5;129;01min\u001b[39;00m _names_cache:\n\u001b[0;32m--> 809\u001b[0m     _names_cache[expr_key] \u001b[38;5;241m=\u001b[39m \u001b[43mgetExprNames\u001b[49m\u001b[43m(\u001b[49m\u001b[43mex\u001b[49m\u001b[43m,\u001b[49m\u001b[43m \u001b[49m\u001b[43mcontext\u001b[49m\u001b[43m)\u001b[49m\n\u001b[1;32m    810\u001b[0m names, ex_uses_vml \u001b[38;5;241m=\u001b[39m _names_cache[expr_key]\n\u001b[1;32m    811\u001b[0m arguments \u001b[38;5;241m=\u001b[39m getArguments(names, local_dict, global_dict)\n",
      "File \u001b[0;32m~/anaconda3/envs/pyultralight/lib/python3.9/site-packages/numexpr/necompiler.py:696\u001b[0m, in \u001b[0;36mgetExprNames\u001b[0;34m(text, context)\u001b[0m\n\u001b[1;32m    695\u001b[0m \u001b[38;5;28;01mdef\u001b[39;00m \u001b[38;5;21mgetExprNames\u001b[39m(text, context):\n\u001b[0;32m--> 696\u001b[0m     ex \u001b[38;5;241m=\u001b[39m \u001b[43mstringToExpression\u001b[49m\u001b[43m(\u001b[49m\u001b[43mtext\u001b[49m\u001b[43m,\u001b[49m\u001b[43m \u001b[49m\u001b[43m{\u001b[49m\u001b[43m}\u001b[49m\u001b[43m,\u001b[49m\u001b[43m \u001b[49m\u001b[43mcontext\u001b[49m\u001b[43m)\u001b[49m\n\u001b[1;32m    697\u001b[0m     ast \u001b[38;5;241m=\u001b[39m expressionToAST(ex)\n\u001b[1;32m    698\u001b[0m     input_order \u001b[38;5;241m=\u001b[39m getInputOrder(ast, \u001b[38;5;28;01mNone\u001b[39;00m)\n",
      "File \u001b[0;32m~/anaconda3/envs/pyultralight/lib/python3.9/site-packages/numexpr/necompiler.py:289\u001b[0m, in \u001b[0;36mstringToExpression\u001b[0;34m(s, types, context)\u001b[0m\n\u001b[1;32m    287\u001b[0m names\u001b[38;5;241m.\u001b[39mupdate(expressions\u001b[38;5;241m.\u001b[39mfunctions)\n\u001b[1;32m    288\u001b[0m \u001b[38;5;66;03m# now build the expression\u001b[39;00m\n\u001b[0;32m--> 289\u001b[0m ex \u001b[38;5;241m=\u001b[39m \u001b[38;5;28;43meval\u001b[39;49m\u001b[43m(\u001b[49m\u001b[43mc\u001b[49m\u001b[43m,\u001b[49m\u001b[43m \u001b[49m\u001b[43mnames\u001b[49m\u001b[43m)\u001b[49m\n\u001b[1;32m    290\u001b[0m \u001b[38;5;28;01mif\u001b[39;00m expressions\u001b[38;5;241m.\u001b[39misConstant(ex):\n\u001b[1;32m    291\u001b[0m     ex \u001b[38;5;241m=\u001b[39m expressions\u001b[38;5;241m.\u001b[39mConstantNode(ex, expressions\u001b[38;5;241m.\u001b[39mgetKind(ex))\n",
      "File \u001b[0;32m<expr>:1\u001b[0m, in \u001b[0;36m<module>\u001b[0;34m\u001b[0m\n",
      "\u001b[0;31mAttributeError\u001b[0m: 'VariableNode' object has no attribute 'pi'"
     ]
    }
   ],
   "source": [
    "PyUltraLight.evolve(central_mass, num_threads, length, length_units, resol, duration, duration_units, step_factor, save_number, save_options, save_path, npz, npy, hdf5, s_mass_unit, s_position_unit, s_velocity_unit, solitons, start_time).Complete\n"
   ]
  },
  {
   "cell_type": "markdown",
   "id": "8315bf6a-2ff1-4c7c-9275-b40fce58d88d",
   "metadata": {},
   "source": [
    "## Visualisations "
   ]
  },
  {
   "cell_type": "code",
   "execution_count": 36,
   "id": "1d2d5dee-aa0c-48c4-8ca2-6d06c757d853",
   "metadata": {},
   "outputs": [
    {
     "ename": "FileNotFoundError",
     "evalue": "[Errno 2] No such file or directory: 'TestOutput/2022.6.9_11:41:00_128/plane_#0.npy'",
     "output_type": "error",
     "traceback": [
      "\u001b[0;31m---------------------------------------------------------------------------\u001b[0m",
      "\u001b[0;31mFileNotFoundError\u001b[0m                         Traceback (most recent call last)",
      "Input \u001b[0;32mIn [36]\u001b[0m, in \u001b[0;36m<cell line: 39>\u001b[0;34m()\u001b[0m\n\u001b[1;32m     44\u001b[0m \u001b[38;5;28;01mfor\u001b[39;00m x \u001b[38;5;129;01min\u001b[39;00m np\u001b[38;5;241m.\u001b[39marange(\u001b[38;5;241m0\u001b[39m,save_number\u001b[38;5;241m+\u001b[39m\u001b[38;5;241m1\u001b[39m,\u001b[38;5;241m1\u001b[39m):\n\u001b[1;32m     45\u001b[0m     \u001b[38;5;28;01mif\u001b[39;00m x \u001b[38;5;241m==\u001b[39m \u001b[38;5;241m0\u001b[39m:\n\u001b[0;32m---> 46\u001b[0m         plt\u001b[38;5;241m.\u001b[39mcontour(\u001b[43mnp\u001b[49m\u001b[38;5;241;43m.\u001b[39;49m\u001b[43mload\u001b[49m\u001b[43m(\u001b[49m\u001b[38;5;124;43m'\u001b[39;49m\u001b[38;5;132;43;01m{}\u001b[39;49;00m\u001b[38;5;132;43;01m{}\u001b[39;49;00m\u001b[38;5;132;43;01m{}\u001b[39;49;00m\u001b[38;5;132;43;01m{}\u001b[39;49;00m\u001b[38;5;124;43m'\u001b[39;49m\u001b[38;5;241;43m.\u001b[39;49m\u001b[43mformat\u001b[49m\u001b[43m(\u001b[49m\u001b[43mloc\u001b[49m\u001b[43m,\u001b[49m\u001b[43m \u001b[49m\u001b[38;5;124;43m'\u001b[39;49m\u001b[38;5;124;43m/plane_#\u001b[39;49m\u001b[38;5;124;43m'\u001b[39;49m\u001b[43m,\u001b[49m\u001b[43mx\u001b[49m\u001b[43m,\u001b[49m\u001b[38;5;124;43m'\u001b[39;49m\u001b[38;5;124;43m.npy\u001b[39;49m\u001b[38;5;124;43m'\u001b[39;49m\u001b[43m)\u001b[49m\u001b[43m)\u001b[49m,colors\u001b[38;5;241m=\u001b[39m\u001b[38;5;124m'\u001b[39m\u001b[38;5;124mk\u001b[39m\u001b[38;5;124m'\u001b[39m)\n\u001b[1;32m     47\u001b[0m     \u001b[38;5;28;01mif\u001b[39;00m x \u001b[38;5;129;01min\u001b[39;00m np\u001b[38;5;241m.\u001b[39marange(\u001b[38;5;241m1\u001b[39m,save_number\u001b[38;5;241m+\u001b[39m\u001b[38;5;241m1\u001b[39m,\u001b[38;5;241m1\u001b[39m):\n\u001b[1;32m     48\u001b[0m         plt\u001b[38;5;241m.\u001b[39mcontour(np\u001b[38;5;241m.\u001b[39mload(\u001b[38;5;124m'\u001b[39m\u001b[38;5;132;01m{}\u001b[39;00m\u001b[38;5;132;01m{}\u001b[39;00m\u001b[38;5;132;01m{}\u001b[39;00m\u001b[38;5;132;01m{}\u001b[39;00m\u001b[38;5;124m'\u001b[39m\u001b[38;5;241m.\u001b[39mformat(loc, \u001b[38;5;124m'\u001b[39m\u001b[38;5;124m/plane_#\u001b[39m\u001b[38;5;124m'\u001b[39m,x,\u001b[38;5;124m'\u001b[39m\u001b[38;5;124m.npy\u001b[39m\u001b[38;5;124m'\u001b[39m)))\n",
      "File \u001b[0;32m~/anaconda3/envs/pyultralight/lib/python3.9/site-packages/numpy/lib/npyio.py:417\u001b[0m, in \u001b[0;36mload\u001b[0;34m(file, mmap_mode, allow_pickle, fix_imports, encoding)\u001b[0m\n\u001b[1;32m    415\u001b[0m     own_fid \u001b[38;5;241m=\u001b[39m \u001b[38;5;28;01mFalse\u001b[39;00m\n\u001b[1;32m    416\u001b[0m \u001b[38;5;28;01melse\u001b[39;00m:\n\u001b[0;32m--> 417\u001b[0m     fid \u001b[38;5;241m=\u001b[39m stack\u001b[38;5;241m.\u001b[39menter_context(\u001b[38;5;28;43mopen\u001b[39;49m\u001b[43m(\u001b[49m\u001b[43mos_fspath\u001b[49m\u001b[43m(\u001b[49m\u001b[43mfile\u001b[49m\u001b[43m)\u001b[49m\u001b[43m,\u001b[49m\u001b[43m \u001b[49m\u001b[38;5;124;43m\"\u001b[39;49m\u001b[38;5;124;43mrb\u001b[39;49m\u001b[38;5;124;43m\"\u001b[39;49m\u001b[43m)\u001b[49m)\n\u001b[1;32m    418\u001b[0m     own_fid \u001b[38;5;241m=\u001b[39m \u001b[38;5;28;01mTrue\u001b[39;00m\n\u001b[1;32m    420\u001b[0m \u001b[38;5;66;03m# Code to distinguish from NumPy binary files and pickles.\u001b[39;00m\n",
      "\u001b[0;31mFileNotFoundError\u001b[0m: [Errno 2] No such file or directory: 'TestOutput/2022.6.9_11:41:00_128/plane_#0.npy'"
     ]
    }
   ],
   "source": [
    "output_animated = 0\n",
    "# 0 for all contours plotted on a single graph (useful when total number of saves is <=10), \n",
    "# 1 for an animation of plane of density contours (useful when number of saves is large, may take some time),\n",
    "# 2 for plot of energies over time, \n",
    "# 3 for animation of line along axis of symmetry (useful for studying interference patterns).\n",
    "save_plots = 0 \n",
    "# 0 to display in this window without saving,\n",
    "# 1 to save as well (will save in 'Visualisations' directory).\n",
    "\n",
    "#######################################################################\n",
    "\n",
    "with open('{}{}'.format(save_path, '/timestamp.txt'), 'r') as timestamp:\n",
    "  ts = timestamp.read()\n",
    "\n",
    "loc = save_path + '/' + ts\n",
    "\n",
    "\n",
    "if output_animated == 2:\n",
    "\n",
    "    egylist = np.load('{}{}'.format(loc, '/egylist.npy')).tolist()\n",
    "    egpcmlist = np.load('{}{}'.format(loc, '/egpcmlist.npy')).tolist()\n",
    "    egpsilist = np.load('{}{}'.format(loc, '/egpsilist.npy')).tolist()\n",
    "    ekandqlist = np.load('{}{}'.format(loc, '/ekandqlist.npy')).tolist()\n",
    "    masslist = np.load('{}{}'.format(loc, '/masslist.npy')).tolist()\n",
    "    plt.plot(egylist,label='Total')\n",
    "    plt.plot(egpcmlist,label='$E_{GP}$ (central potential)')\n",
    "    plt.plot(egpsilist,label='$E_{GP}$ (self-interaction)')\n",
    "    plt.plot(ekandqlist,label='$E_{K}+E_{Q}$')\n",
    "    plt.legend(loc='upper center', bbox_to_anchor=(0.5, 1.3), frameon=False, ncol=2)\n",
    "    plt.axes().get_xaxis().set_ticks([])\n",
    "    plt.ylabel('Energy')\n",
    "    plt.xlabel('Time')\n",
    "    plt.tight_layout(pad=0.4, w_pad=0.5, h_pad=1.0)\n",
    "    if save_plots == 1:\n",
    "        plt.savefig('./Visualisations/energy_diagram.eps', format='eps', dpi=1000)\n",
    "        plt.savefig('./Visualisations/energy_diagram.jpg', format='jpg', dpi=1000)\n",
    "    plt.show()\n",
    "\n",
    "if output_animated == 0:\n",
    "    import warnings \n",
    "    warnings.filterwarnings(\"ignore\")\n",
    "    plt.ioff()\n",
    "    plt.figure(figsize=(20,10))\n",
    "    for x in np.arange(0,save_number+1,1):\n",
    "        if x == 0:\n",
    "            plt.contour(np.load('{}{}{}{}'.format(loc, '/plane_#',x,'.npy')),colors='k')\n",
    "        if x in np.arange(1,save_number+1,1):\n",
    "            plt.contour(np.load('{}{}{}{}'.format(loc, '/plane_#',x,'.npy')))\n",
    "            plt.axes().set_aspect('equal')\n",
    "            plt.axes().get_xaxis().set_ticks([])\n",
    "            plt.axes().get_yaxis().set_ticks([])\n",
    "    if save_plots == 1:\n",
    "        plt.savefig('{}'.format('./Visualisations/Static_contours.eps'), format='eps', dpi=1000)\n",
    "        plt.savefig('{}'.format('./Visualisations/Static_contours.jpg'), format='jpg', dpi=1000)\n",
    "    plt.show()\n",
    "\n",
    "if output_animated in (1,3):        \n",
    "\n",
    "    import warnings \n",
    "    warnings.filterwarnings(\"ignore\")\n",
    "    plt.ioff()\n",
    "    fig,ax = plt.subplots(figsize=(20, 10))\n",
    "    plt.axes().set_aspect('equal')\n",
    "    \n",
    "    data = []\n",
    "    \n",
    "    for x in np.arange(0,save_number+1,1):\n",
    "        if output_animated == 1:\n",
    "            data.append(np.load('{}{}{}{}'.format(loc, '/plane_#', x, '.npy')))\n",
    "        if output_animated == 3:\n",
    "            data.append(np.load('{}{}{}{}'.format(loc, '/line_#', x, '.npy')))\n",
    "    if output_animated == 3:\n",
    "        m = []\n",
    "        for i in np.arange(0,save_number+1,1):\n",
    "            m.append(max(data[i]))\n",
    "            lim = max(m)\n",
    "            \n",
    "    def animate(i):\n",
    "        plt.clf()\n",
    "        if output_animated == 1:\n",
    "            plot = plt.contour(data[i])\n",
    "            plt.axes().set_aspect('equal')\n",
    "            plt.axes().get_xaxis().set_ticks([])\n",
    "            plt.axes().get_yaxis().set_ticks([])\n",
    "            plt.title('Mass Density - Plane')\n",
    "        if output_animated == 3:\n",
    "            plt.clf()\n",
    "            plot = plt.plot(data[i])    \n",
    "            plt.title('Mass Density - Line')\n",
    "            plt.axes().set_ylim(0,lim)\n",
    "\n",
    "    Writer = matplotlib.animation.writers['ffmpeg']\n",
    "    writer = Writer(fps=15, metadata=dict(artist='PyUltraLight'), bitrate=1800)\n",
    "            \n",
    "    interval = 0.15 #in seconds\n",
    "    ani = matplotlib.animation.FuncAnimation(fig,animate,save_number+1,interval=interval*1e+3,blit=False)\n",
    "    if save_plots == 1:\n",
    "        if output_animated == 1:\n",
    "            ani.save('./Visualisations/plane_animation.mp4', writer=writer)\n",
    "        if output_animated == 1:\n",
    "            ani.save('./Visualisations/line_animation.mp4', writer=writer)\n",
    "\n",
    "            \n",
    "    from IPython.display import HTML\n",
    "    animated_plot = HTML(ani.to_jshtml())\n",
    "\n",
    "    if save_plots == 1:  \n",
    "        save_html = animated_plot.data\n",
    "        if output_animated == 1:\n",
    "            with open('./Visualisations/plane_animation.html', 'w') as f:\n",
    "                f.write(save_html)\n",
    "        if output_animated == 3:\n",
    "            with open('./Visualisations/line_animation.html', 'w') as f:\n",
    "                f.write(save_html)\n",
    "    display(animated_plot) \n",
    "    plt.close()    "
   ]
  },
  {
   "cell_type": "code",
   "execution_count": null,
   "id": "6a6e1a9f-d272-4f90-a185-a02ee9e3d58b",
   "metadata": {},
   "outputs": [],
   "source": []
  },
  {
   "cell_type": "code",
   "execution_count": null,
   "id": "df1dce8e-348e-430d-bb63-8fe509907475",
   "metadata": {},
   "outputs": [],
   "source": []
  },
  {
   "cell_type": "code",
   "execution_count": null,
   "id": "23214523-b262-437a-8b0d-11fac84ab191",
   "metadata": {},
   "outputs": [],
   "source": []
  }
 ],
 "metadata": {
  "kernelspec": {
   "display_name": "pyultralight",
   "language": "python",
   "name": "pyultralight"
  },
  "language_info": {
   "codemirror_mode": {
    "name": "ipython",
    "version": 3
   },
   "file_extension": ".py",
   "mimetype": "text/x-python",
   "name": "python",
   "nbconvert_exporter": "python",
   "pygments_lexer": "ipython3",
   "version": "3.9.12"
  }
 },
 "nbformat": 4,
 "nbformat_minor": 5
}
