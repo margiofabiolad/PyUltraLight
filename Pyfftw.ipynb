{
 "cells": [
  {
   "cell_type": "code",
   "execution_count": 1,
   "id": "f4a5a203-51f0-46c1-a24e-fdb164f460d9",
   "metadata": {},
   "outputs": [
    {
     "ename": "ImportError",
     "evalue": "/home/marz/anaconda3/envs/pyfftw/lib/python3.10/site-packages/zmq/backend/cython/../../../../.././libstdc++.so.6: version `GLIBCXX_3.4.30' not found (required by /home/marz/anaconda3/envs/pyfftw/lib/python3.10/site-packages/scipy/fft/_pocketfft/pypocketfft.cpython-310-x86_64-linux-gnu.so)",
     "output_type": "error",
     "traceback": [
      "\u001b[0;31m---------------------------------------------------------------------------\u001b[0m",
      "\u001b[0;31mImportError\u001b[0m                               Traceback (most recent call last)",
      "Input \u001b[0;32mIn [1]\u001b[0m, in \u001b[0;36m<cell line: 6>\u001b[0;34m()\u001b[0m\n\u001b[1;32m      4\u001b[0m \u001b[38;5;28;01mfrom\u001b[39;00m \u001b[38;5;21;01mtimeit\u001b[39;00m \u001b[38;5;28;01mimport\u001b[39;00m Timer\n\u001b[1;32m      5\u001b[0m \u001b[38;5;28;01mimport\u001b[39;00m \u001b[38;5;21;01mscipy\u001b[39;00m\n\u001b[0;32m----> 6\u001b[0m \u001b[38;5;28;01mimport\u001b[39;00m \u001b[38;5;21;01mscipy\u001b[39;00m\u001b[38;5;21;01m.\u001b[39;00m\u001b[38;5;21;01msignal\u001b[39;00m\n",
      "File \u001b[0;32m~/anaconda3/envs/pyfftw/lib/python3.10/site-packages/scipy/signal/__init__.py:309\u001b[0m, in \u001b[0;36m<module>\u001b[0;34m\u001b[0m\n\u001b[1;32m      1\u001b[0m \u001b[38;5;124;03m\"\"\"\u001b[39;00m\n\u001b[1;32m      2\u001b[0m \u001b[38;5;124;03m=======================================\u001b[39;00m\n\u001b[1;32m      3\u001b[0m \u001b[38;5;124;03mSignal processing (:mod:`scipy.signal`)\u001b[39;00m\n\u001b[0;32m   (...)\u001b[0m\n\u001b[1;32m    307\u001b[0m \n\u001b[1;32m    308\u001b[0m \u001b[38;5;124;03m\"\"\"\u001b[39;00m\n\u001b[0;32m--> 309\u001b[0m \u001b[38;5;28;01mfrom\u001b[39;00m \u001b[38;5;21;01m.\u001b[39;00m \u001b[38;5;28;01mimport\u001b[39;00m _sigtools, windows\n\u001b[1;32m    310\u001b[0m \u001b[38;5;28;01mfrom\u001b[39;00m \u001b[38;5;21;01m.\u001b[39;00m\u001b[38;5;21;01m_waveforms\u001b[39;00m \u001b[38;5;28;01mimport\u001b[39;00m \u001b[38;5;241m*\u001b[39m\n\u001b[1;32m    311\u001b[0m \u001b[38;5;28;01mfrom\u001b[39;00m \u001b[38;5;21;01m.\u001b[39;00m\u001b[38;5;21;01m_max_len_seq\u001b[39;00m \u001b[38;5;28;01mimport\u001b[39;00m max_len_seq\n",
      "File \u001b[0;32m~/anaconda3/envs/pyfftw/lib/python3.10/site-packages/scipy/signal/windows/__init__.py:41\u001b[0m, in \u001b[0;36m<module>\u001b[0;34m\u001b[0m\n\u001b[1;32m      1\u001b[0m \u001b[38;5;124;03m\"\"\"\u001b[39;00m\n\u001b[1;32m      2\u001b[0m \u001b[38;5;124;03mWindow functions (:mod:`scipy.signal.windows`)\u001b[39;00m\n\u001b[1;32m      3\u001b[0m \u001b[38;5;124;03m==============================================\u001b[39;00m\n\u001b[0;32m   (...)\u001b[0m\n\u001b[1;32m     38\u001b[0m \n\u001b[1;32m     39\u001b[0m \u001b[38;5;124;03m\"\"\"\u001b[39;00m\n\u001b[0;32m---> 41\u001b[0m \u001b[38;5;28;01mfrom\u001b[39;00m \u001b[38;5;21;01m.\u001b[39;00m\u001b[38;5;21;01m_windows\u001b[39;00m \u001b[38;5;28;01mimport\u001b[39;00m \u001b[38;5;241m*\u001b[39m\n\u001b[1;32m     43\u001b[0m \u001b[38;5;66;03m# Deprecated namespaces, to be removed in v2.0.0\u001b[39;00m\n\u001b[1;32m     44\u001b[0m \u001b[38;5;28;01mfrom\u001b[39;00m \u001b[38;5;21;01m.\u001b[39;00m \u001b[38;5;28;01mimport\u001b[39;00m windows\n",
      "File \u001b[0;32m~/anaconda3/envs/pyfftw/lib/python3.10/site-packages/scipy/signal/windows/_windows.py:7\u001b[0m, in \u001b[0;36m<module>\u001b[0;34m\u001b[0m\n\u001b[1;32m      4\u001b[0m \u001b[38;5;28;01mimport\u001b[39;00m \u001b[38;5;21;01mwarnings\u001b[39;00m\n\u001b[1;32m      6\u001b[0m \u001b[38;5;28;01mimport\u001b[39;00m \u001b[38;5;21;01mnumpy\u001b[39;00m \u001b[38;5;28;01mas\u001b[39;00m \u001b[38;5;21;01mnp\u001b[39;00m\n\u001b[0;32m----> 7\u001b[0m \u001b[38;5;28;01mfrom\u001b[39;00m \u001b[38;5;21;01mscipy\u001b[39;00m \u001b[38;5;28;01mimport\u001b[39;00m linalg, special, fft \u001b[38;5;28;01mas\u001b[39;00m sp_fft\n\u001b[1;32m      9\u001b[0m __all__ \u001b[38;5;241m=\u001b[39m [\u001b[38;5;124m'\u001b[39m\u001b[38;5;124mboxcar\u001b[39m\u001b[38;5;124m'\u001b[39m, \u001b[38;5;124m'\u001b[39m\u001b[38;5;124mtriang\u001b[39m\u001b[38;5;124m'\u001b[39m, \u001b[38;5;124m'\u001b[39m\u001b[38;5;124mparzen\u001b[39m\u001b[38;5;124m'\u001b[39m, \u001b[38;5;124m'\u001b[39m\u001b[38;5;124mbohman\u001b[39m\u001b[38;5;124m'\u001b[39m, \u001b[38;5;124m'\u001b[39m\u001b[38;5;124mblackman\u001b[39m\u001b[38;5;124m'\u001b[39m, \u001b[38;5;124m'\u001b[39m\u001b[38;5;124mnuttall\u001b[39m\u001b[38;5;124m'\u001b[39m,\n\u001b[1;32m     10\u001b[0m            \u001b[38;5;124m'\u001b[39m\u001b[38;5;124mblackmanharris\u001b[39m\u001b[38;5;124m'\u001b[39m, \u001b[38;5;124m'\u001b[39m\u001b[38;5;124mflattop\u001b[39m\u001b[38;5;124m'\u001b[39m, \u001b[38;5;124m'\u001b[39m\u001b[38;5;124mbartlett\u001b[39m\u001b[38;5;124m'\u001b[39m, \u001b[38;5;124m'\u001b[39m\u001b[38;5;124mhanning\u001b[39m\u001b[38;5;124m'\u001b[39m, \u001b[38;5;124m'\u001b[39m\u001b[38;5;124mbarthann\u001b[39m\u001b[38;5;124m'\u001b[39m,\n\u001b[1;32m     11\u001b[0m            \u001b[38;5;124m'\u001b[39m\u001b[38;5;124mhamming\u001b[39m\u001b[38;5;124m'\u001b[39m, \u001b[38;5;124m'\u001b[39m\u001b[38;5;124mkaiser\u001b[39m\u001b[38;5;124m'\u001b[39m, \u001b[38;5;124m'\u001b[39m\u001b[38;5;124mgaussian\u001b[39m\u001b[38;5;124m'\u001b[39m, \u001b[38;5;124m'\u001b[39m\u001b[38;5;124mgeneral_cosine\u001b[39m\u001b[38;5;124m'\u001b[39m,\n\u001b[1;32m     12\u001b[0m            \u001b[38;5;124m'\u001b[39m\u001b[38;5;124mgeneral_gaussian\u001b[39m\u001b[38;5;124m'\u001b[39m, \u001b[38;5;124m'\u001b[39m\u001b[38;5;124mgeneral_hamming\u001b[39m\u001b[38;5;124m'\u001b[39m, \u001b[38;5;124m'\u001b[39m\u001b[38;5;124mchebwin\u001b[39m\u001b[38;5;124m'\u001b[39m, \u001b[38;5;124m'\u001b[39m\u001b[38;5;124mcosine\u001b[39m\u001b[38;5;124m'\u001b[39m,\n\u001b[1;32m     13\u001b[0m            \u001b[38;5;124m'\u001b[39m\u001b[38;5;124mhann\u001b[39m\u001b[38;5;124m'\u001b[39m, \u001b[38;5;124m'\u001b[39m\u001b[38;5;124mexponential\u001b[39m\u001b[38;5;124m'\u001b[39m, \u001b[38;5;124m'\u001b[39m\u001b[38;5;124mtukey\u001b[39m\u001b[38;5;124m'\u001b[39m, \u001b[38;5;124m'\u001b[39m\u001b[38;5;124mtaylor\u001b[39m\u001b[38;5;124m'\u001b[39m, \u001b[38;5;124m'\u001b[39m\u001b[38;5;124mdpss\u001b[39m\u001b[38;5;124m'\u001b[39m, \u001b[38;5;124m'\u001b[39m\u001b[38;5;124mget_window\u001b[39m\u001b[38;5;124m'\u001b[39m]\n\u001b[1;32m     16\u001b[0m \u001b[38;5;28;01mdef\u001b[39;00m \u001b[38;5;21m_len_guards\u001b[39m(M):\n",
      "File \u001b[0;32m~/anaconda3/envs/pyfftw/lib/python3.10/site-packages/scipy/fft/__init__.py:91\u001b[0m, in \u001b[0;36m<module>\u001b[0;34m\u001b[0m\n\u001b[1;32m     89\u001b[0m \u001b[38;5;28;01mfrom\u001b[39;00m \u001b[38;5;21;01m.\u001b[39;00m\u001b[38;5;21;01m_realtransforms\u001b[39;00m \u001b[38;5;28;01mimport\u001b[39;00m dct, idct, dst, idst, dctn, idctn, dstn, idstn\n\u001b[1;32m     90\u001b[0m \u001b[38;5;28;01mfrom\u001b[39;00m \u001b[38;5;21;01m.\u001b[39;00m\u001b[38;5;21;01m_fftlog\u001b[39;00m \u001b[38;5;28;01mimport\u001b[39;00m fht, ifht, fhtoffset\n\u001b[0;32m---> 91\u001b[0m \u001b[38;5;28;01mfrom\u001b[39;00m \u001b[38;5;21;01m.\u001b[39;00m\u001b[38;5;21;01m_helper\u001b[39;00m \u001b[38;5;28;01mimport\u001b[39;00m next_fast_len\n\u001b[1;32m     92\u001b[0m \u001b[38;5;28;01mfrom\u001b[39;00m \u001b[38;5;21;01m.\u001b[39;00m\u001b[38;5;21;01m_backend\u001b[39;00m \u001b[38;5;28;01mimport\u001b[39;00m (set_backend, skip_backend, set_global_backend,\n\u001b[1;32m     93\u001b[0m                        register_backend)\n\u001b[1;32m     94\u001b[0m \u001b[38;5;28;01mfrom\u001b[39;00m \u001b[38;5;21;01mnumpy\u001b[39;00m\u001b[38;5;21;01m.\u001b[39;00m\u001b[38;5;21;01mfft\u001b[39;00m \u001b[38;5;28;01mimport\u001b[39;00m fftfreq, rfftfreq, fftshift, ifftshift\n",
      "File \u001b[0;32m~/anaconda3/envs/pyfftw/lib/python3.10/site-packages/scipy/fft/_helper.py:3\u001b[0m, in \u001b[0;36m<module>\u001b[0;34m\u001b[0m\n\u001b[1;32m      1\u001b[0m \u001b[38;5;28;01mfrom\u001b[39;00m \u001b[38;5;21;01mfunctools\u001b[39;00m \u001b[38;5;28;01mimport\u001b[39;00m update_wrapper, lru_cache\n\u001b[0;32m----> 3\u001b[0m \u001b[38;5;28;01mfrom\u001b[39;00m \u001b[38;5;21;01m.\u001b[39;00m\u001b[38;5;21;01m_pocketfft\u001b[39;00m \u001b[38;5;28;01mimport\u001b[39;00m helper \u001b[38;5;28;01mas\u001b[39;00m _helper\n\u001b[1;32m      6\u001b[0m \u001b[38;5;28;01mdef\u001b[39;00m \u001b[38;5;21mnext_fast_len\u001b[39m(target, real\u001b[38;5;241m=\u001b[39m\u001b[38;5;28;01mFalse\u001b[39;00m):\n\u001b[1;32m      7\u001b[0m     \u001b[38;5;124;03m\"\"\"Find the next fast size of input data to ``fft``, for zero-padding, etc.\u001b[39;00m\n\u001b[1;32m      8\u001b[0m \n\u001b[1;32m      9\u001b[0m \u001b[38;5;124;03m    SciPy's FFT algorithms gain their speed by a recursive divide and conquer\u001b[39;00m\n\u001b[0;32m   (...)\u001b[0m\n\u001b[1;32m     59\u001b[0m \n\u001b[1;32m     60\u001b[0m \u001b[38;5;124;03m    \"\"\"\u001b[39;00m\n",
      "File \u001b[0;32m~/anaconda3/envs/pyfftw/lib/python3.10/site-packages/scipy/fft/_pocketfft/__init__.py:3\u001b[0m, in \u001b[0;36m<module>\u001b[0;34m\u001b[0m\n\u001b[1;32m      1\u001b[0m \u001b[38;5;124;03m\"\"\" FFT backend using pypocketfft \"\"\"\u001b[39;00m\n\u001b[0;32m----> 3\u001b[0m \u001b[38;5;28;01mfrom\u001b[39;00m \u001b[38;5;21;01m.\u001b[39;00m\u001b[38;5;21;01mbasic\u001b[39;00m \u001b[38;5;28;01mimport\u001b[39;00m \u001b[38;5;241m*\u001b[39m\n\u001b[1;32m      4\u001b[0m \u001b[38;5;28;01mfrom\u001b[39;00m \u001b[38;5;21;01m.\u001b[39;00m\u001b[38;5;21;01mrealtransforms\u001b[39;00m \u001b[38;5;28;01mimport\u001b[39;00m \u001b[38;5;241m*\u001b[39m\n\u001b[1;32m      5\u001b[0m \u001b[38;5;28;01mfrom\u001b[39;00m \u001b[38;5;21;01m.\u001b[39;00m\u001b[38;5;21;01mhelper\u001b[39;00m \u001b[38;5;28;01mimport\u001b[39;00m \u001b[38;5;241m*\u001b[39m\n",
      "File \u001b[0;32m~/anaconda3/envs/pyfftw/lib/python3.10/site-packages/scipy/fft/_pocketfft/basic.py:6\u001b[0m, in \u001b[0;36m<module>\u001b[0;34m\u001b[0m\n\u001b[1;32m      4\u001b[0m \u001b[38;5;28;01mimport\u001b[39;00m \u001b[38;5;21;01mnumpy\u001b[39;00m \u001b[38;5;28;01mas\u001b[39;00m \u001b[38;5;21;01mnp\u001b[39;00m\n\u001b[1;32m      5\u001b[0m \u001b[38;5;28;01mimport\u001b[39;00m \u001b[38;5;21;01mfunctools\u001b[39;00m\n\u001b[0;32m----> 6\u001b[0m \u001b[38;5;28;01mfrom\u001b[39;00m \u001b[38;5;21;01m.\u001b[39;00m \u001b[38;5;28;01mimport\u001b[39;00m pypocketfft \u001b[38;5;28;01mas\u001b[39;00m pfft\n\u001b[1;32m      7\u001b[0m \u001b[38;5;28;01mfrom\u001b[39;00m \u001b[38;5;21;01m.\u001b[39;00m\u001b[38;5;21;01mhelper\u001b[39;00m \u001b[38;5;28;01mimport\u001b[39;00m (_asfarray, _init_nd_shape_and_axes, _datacopied,\n\u001b[1;32m      8\u001b[0m                      _fix_shape, _fix_shape_1d, _normalization,\n\u001b[1;32m      9\u001b[0m                      _workers)\n\u001b[1;32m     11\u001b[0m \u001b[38;5;28;01mdef\u001b[39;00m \u001b[38;5;21mc2c\u001b[39m(forward, x, n\u001b[38;5;241m=\u001b[39m\u001b[38;5;28;01mNone\u001b[39;00m, axis\u001b[38;5;241m=\u001b[39m\u001b[38;5;241m-\u001b[39m\u001b[38;5;241m1\u001b[39m, norm\u001b[38;5;241m=\u001b[39m\u001b[38;5;28;01mNone\u001b[39;00m, overwrite_x\u001b[38;5;241m=\u001b[39m\u001b[38;5;28;01mFalse\u001b[39;00m,\n\u001b[1;32m     12\u001b[0m         workers\u001b[38;5;241m=\u001b[39m\u001b[38;5;28;01mNone\u001b[39;00m, \u001b[38;5;241m*\u001b[39m, plan\u001b[38;5;241m=\u001b[39m\u001b[38;5;28;01mNone\u001b[39;00m):\n",
      "\u001b[0;31mImportError\u001b[0m: /home/marz/anaconda3/envs/pyfftw/lib/python3.10/site-packages/zmq/backend/cython/../../../../.././libstdc++.so.6: version `GLIBCXX_3.4.30' not found (required by /home/marz/anaconda3/envs/pyfftw/lib/python3.10/site-packages/scipy/fft/_pocketfft/pypocketfft.cpython-310-x86_64-linux-gnu.so)"
     ]
    }
   ],
   "source": [
    "import pyfftw\n",
    "import numpy\n",
    "import multiprocessing\n",
    "from timeit import Timer\n",
    "import scipy\n",
    "import scipy.signal\n"
   ]
  },
  {
   "cell_type": "code",
   "execution_count": 3,
   "id": "8330020e-baa5-47d4-970b-c887245fdc94",
   "metadata": {},
   "outputs": [],
   "source": [
    "import pyfftw\n",
    "import multiprocessing\n",
    "from timeit import Timer\n",
    "import scipy\n",
    "#pyfftw.config.NUM_THREADS = 4\n",
    "#import scipy.signal"
   ]
  },
  {
   "cell_type": "code",
   "execution_count": 4,
   "id": "0560e349-316c-4a46-a3b6-ed1d9f98dd3f",
   "metadata": {},
   "outputs": [
    {
     "data": {
      "text/plain": [
       "True"
      ]
     },
     "execution_count": 4,
     "metadata": {},
     "output_type": "execute_result"
    }
   ],
   "source": [
    "a = pyfftw.empty_aligned(128, dtype='complex128', n=16)   #arreglo complejo de 128 de longitud. empty_aligned ~ np.empty pero regresa un arreglo a un \n",
    "#numero particula de bytes en memoria, en este caso n = 16. Esto permite hacer operaciones vectoriales mas rapidas en la FFT\n",
    "\n",
    "\n",
    "a[:] = numpy.random.randn(128) + 1j*numpy.random.randn(128)\n",
    "a[:]\n",
    "\n",
    "b = pyfftw.interfaces.numpy_fft.fft(a)      #pyfftw.interfaces.numpy_fft.fft()  la mis precision numerica que np.fft.fft()\n",
    "c = numpy.fft.fft(a)\n",
    "\n",
    "numpy.allclose(b, c)\n",
    "\n",
    "#para reeplazar todo el codigo de np.fft con pyfftw.interfaces simplemente se reemplaza el codigo de np.fft por pyfftw.interfaces.np_fft\n"
   ]
  },
  {
   "cell_type": "code",
   "execution_count": 2,
   "id": "5b3cc742-8377-4be5-a130-e0de06eaff2d",
   "metadata": {},
   "outputs": [
    {
     "name": "stdout",
     "output_type": "stream",
     "text": [
      "1.8.1\n"
     ]
    }
   ],
   "source": [
    "\n",
    "import scipy\n",
    "print(scipy.__version__)"
   ]
  },
  {
   "cell_type": "code",
   "execution_count": 7,
   "id": "f9a9208e-d291-46de-9f6a-14de7f032faf",
   "metadata": {},
   "outputs": [],
   "source": [
    "\n",
    "\n",
    "a = pyfftw.empty_aligned(128, dtype='complex128')\n",
    "b = pyfftw.empty_aligned(128, dtype='complex128')\n",
    "\n",
    "fft_object = pyfftw.FFTW(a, b)"
   ]
  },
  {
   "cell_type": "code",
   "execution_count": 28,
   "id": "49a0a4a0-7547-4c77-8c80-aa74cbf7874f",
   "metadata": {},
   "outputs": [],
   "source": []
  },
  {
   "cell_type": "code",
   "execution_count": 8,
   "id": "ed8fc14f-7960-41fa-8b44-021e02b62818",
   "metadata": {},
   "outputs": [],
   "source": [
    "d = pyfftw.empty_aligned(128, dtype='float64')\n",
    "e = pyfftw.empty_aligned(128, dtype='float64')\n",
    "\n",
    "dct_transform = pyfftw.FFTW(d, e, direction='FFTW_REDFT00')"
   ]
  },
  {
   "cell_type": "code",
   "execution_count": 9,
   "id": "f36e9372-ff70-48a8-8a45-20ba4ba42d4c",
   "metadata": {},
   "outputs": [],
   "source": [
    "import pyfftw\n",
    "\n",
    "pyfftw.config.NUM_THREADS = 4\n",
    "\n",
    "pyfftw.config.PLANNER_EFFORT = 'FFTW_MEASURE'"
   ]
  },
  {
   "cell_type": "code",
   "execution_count": 10,
   "id": "d290bbd4-6f44-48fb-95c0-75969ac17b20",
   "metadata": {},
   "outputs": [
    {
     "data": {
      "text/plain": [
       "array([ 1.08905206e-03-1.02847055j,  1.37233418e+00-1.68913185j,\n",
       "        1.81597233e+00+0.01453133j, -2.24029282e-01+0.0642893j ,\n",
       "       -4.68449187e-01+0.58507217j,  7.84816356e-01-0.4108967j ,\n",
       "        2.01673488e+00-0.57952415j,  1.05063589e+00-0.31650697j,\n",
       "        6.61722973e-02-2.39797699j, -1.54604645e+00+0.13744784j,\n",
       "        8.33508336e-01+0.01252654j, -8.94643315e-01+0.00996667j,\n",
       "       -1.14866230e-01-0.15261477j,  4.33751462e-01+1.26859316j,\n",
       "        5.19663878e-02+0.675809j  ,  9.00421285e-01+0.26919586j,\n",
       "       -1.67624009e-01-0.05392692j, -4.10034408e-02+0.35413801j,\n",
       "        9.35279633e-01-0.03570147j, -9.62617730e-01-0.92452911j,\n",
       "        2.49563162e+00-0.47692925j, -2.69591446e-01+0.78462677j,\n",
       "       -1.03957140e+00-2.00529456j,  7.77414139e-01-0.52894579j,\n",
       "        6.70005830e-01+0.78255277j, -5.03761046e-02+0.64777661j,\n",
       "        1.22021821e+00-0.65677398j, -9.86748024e-01+0.08753286j,\n",
       "        1.85842914e+00-0.39022492j, -1.51683734e+00+0.20062364j,\n",
       "        1.19378428e+00-0.68128877j,  2.01384656e-01-0.62516814j,\n",
       "        6.89365195e-01+0.12690764j, -1.02696435e+00-1.69811452j,\n",
       "        6.89612244e-01+0.74809093j,  1.03290457e-01+0.76774919j,\n",
       "        6.83281043e-01-1.16582203j, -5.21520504e-01-0.66340287j,\n",
       "        6.89120687e-01-0.40663989j,  8.89723434e-02+0.42358397j,\n",
       "       -4.33384245e-01+0.68965208j, -7.41517218e-01+0.44638767j,\n",
       "       -3.99133520e-01-0.8119843j , -2.50346903e+00-0.09539779j,\n",
       "       -1.29013360e+00-0.89301988j,  5.26774815e-02-0.90223314j,\n",
       "        8.68190007e-01+0.30470254j,  4.69540049e-01-0.89017419j,\n",
       "        2.48934110e-01+0.83740022j,  3.66469987e-01+1.41380156j,\n",
       "       -5.00465953e-01-0.31811744j, -7.11623944e-01-0.33589652j,\n",
       "        5.60693066e-01-0.17110661j,  1.80039778e+00-0.43995202j,\n",
       "        1.50093765e+00+0.73820252j,  3.14074371e-01+1.2346908j ,\n",
       "        1.23424035e+00+0.32270147j,  1.16245618e+00+0.31916211j,\n",
       "       -1.89354350e+00+0.06911194j,  5.10649450e-01+0.35708106j,\n",
       "       -7.53316538e-01+0.27614987j, -1.48102117e+00-0.64553129j,\n",
       "        2.03965672e+00-1.34410993j,  1.59640352e+00-0.67961376j,\n",
       "       -3.36898431e-01+1.03853702j, -5.04952196e-01+1.62357366j,\n",
       "        6.42975883e-01+1.41108196j,  6.77293737e-01+0.50483227j,\n",
       "        2.01724330e-02-1.26795464j, -4.97879818e-01-0.34356864j,\n",
       "       -4.15084791e-02+0.56429734j,  9.98144569e-01-2.28184893j,\n",
       "        1.77984429e-01-0.85338328j, -3.70033207e-01-0.02424775j,\n",
       "        1.85082114e+00-0.64110253j,  4.66912867e-02-1.89189663j,\n",
       "       -4.28353078e-01-0.68196487j,  9.83865706e-01+0.41643805j,\n",
       "       -4.90788005e-02-1.43037874j,  1.38722193e+00+0.97224277j,\n",
       "        2.48776593e-01-0.52882817j, -7.31680623e-01+0.85717042j,\n",
       "       -4.85561764e-01+1.50870776j, -2.57836022e+00+0.20148156j,\n",
       "        8.72279650e-01+0.3954619j ,  1.06001234e+00-0.29794756j,\n",
       "        2.94073431e-01+0.49789348j,  1.20146666e-01-2.31005435j,\n",
       "        1.35212685e-02+0.45130957j, -1.80802341e-01+0.66951384j,\n",
       "        6.37455240e-01+0.4067848j ,  1.29336888e+00+0.24236435j,\n",
       "       -1.21007345e+00+0.95828976j,  5.42040233e-01+0.56645551j,\n",
       "       -3.65344223e-01+0.23371646j, -1.02313867e+00-2.4443147j ,\n",
       "        1.46721416e+00-0.21925102j, -2.52480136e-02-0.09294142j,\n",
       "        1.18651064e+00-1.20017686j,  1.91527907e-03+0.64578585j,\n",
       "       -6.17669283e-01-0.36442286j,  3.42526514e-01-1.68669985j,\n",
       "       -2.05551770e-01-1.25764467j,  7.44551414e-01+0.83632371j,\n",
       "       -1.87463176e+00-0.86530382j, -1.46739293e+00-0.3268588j ,\n",
       "       -7.12726557e-01+0.07848874j, -1.17633774e+00+0.12059908j,\n",
       "       -2.13220870e+00-0.25081653j, -2.57772924e-01-0.54818602j,\n",
       "        5.38170888e-01+1.89932752j,  1.08017207e+00-0.49345112j,\n",
       "        6.02759375e-01+0.04128874j, -1.48696420e+00+0.68730806j,\n",
       "       -1.04426698e+00-0.40664668j, -9.15772466e-01+1.6499484j ,\n",
       "        2.08209167e-01-0.99838202j, -1.05569792e+00+0.51323651j,\n",
       "       -1.19702221e+00+0.16817125j, -1.20272053e-01-0.42240059j,\n",
       "        1.74406964e+00+0.34441508j,  1.01978200e+00+0.43329326j,\n",
       "       -7.74346062e-01-0.2996081j , -1.47766972e+00+0.30256673j,\n",
       "        1.50085787e+00+1.2420058j , -1.56326419e+00-0.13678705j,\n",
       "       -2.10830427e-01-1.1188779j , -1.01826239e+00-0.02463729j])"
      ]
     },
     "execution_count": 10,
     "metadata": {},
     "output_type": "execute_result"
    }
   ],
   "source": [
    "a = pyfftw.empty_aligned(128, dtype='complex128', n=16)\n",
    "a\n",
    "a[:] = numpy.random.randn(128) + 1j*numpy.random.randn(128)\n",
    "a[:]"
   ]
  },
  {
   "cell_type": "code",
   "execution_count": 11,
   "id": "eb62d4d9-a333-4e6b-8b78-9033455f2cda",
   "metadata": {},
   "outputs": [
    {
     "data": {
      "text/plain": [
       "array([10.+0.j, -2.+2.j, -2.+0.j, -2.-2.j])"
      ]
     },
     "execution_count": 11,
     "metadata": {},
     "output_type": "execute_result"
    }
   ],
   "source": [
    "import pyfftw\n",
    "a = pyfftw.empty_aligned(4, dtype='complex128', )\n",
    "a\n",
    "fft = pyfftw.builders.fft(a)\n",
    "a[:] = [1, 2, 3, 4]\n",
    "fft()\n",
    "\n"
   ]
  },
  {
   "cell_type": "code",
   "execution_count": null,
   "id": "0ff4ebfd-01fa-4347-935a-e607f8e72af0",
   "metadata": {},
   "outputs": [],
   "source": []
  },
  {
   "cell_type": "code",
   "execution_count": null,
   "id": "93ea36ad-c077-45b7-836e-cb914ee34f38",
   "metadata": {},
   "outputs": [],
   "source": []
  }
 ],
 "metadata": {
  "kernelspec": {
   "display_name": "pyfftw",
   "language": "python",
   "name": "pyfftw"
  },
  "language_info": {
   "codemirror_mode": {
    "name": "ipython",
    "version": 3
   },
   "file_extension": ".py",
   "mimetype": "text/x-python",
   "name": "python",
   "nbconvert_exporter": "python",
   "pygments_lexer": "ipython3",
   "version": "3.10.4"
  }
 },
 "nbformat": 4,
 "nbformat_minor": 5
}
